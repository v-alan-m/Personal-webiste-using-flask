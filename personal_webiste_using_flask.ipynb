{
 "cells": [
  {
   "cell_type": "markdown",
   "metadata": {},
   "source": [
    "# Create a file to create and run the flask webserver\n",
    "- personal_flask_website.py"
   ]
  },
  {
   "cell_type": "markdown",
   "metadata": {},
   "source": [
    "# HTML template  \n",
    "- Create a folder called \"templates\"  \n",
    "    - Create a .html file with it  \n",
    "        - home.html\n",
    "        - about.html"
   ]
  },
  {
   "cell_type": "markdown",
   "metadata": {},
   "source": [
    "# Navigation memu\n",
    "- Provides to a global view of a selected range of webpages \n",
    "    - layout.html  \n",
    "- The flask python file navigates to the chosen url page  \n",
    "- The URL page extends to the layout.html page  \n",
    "- The layout page has an element which contains:  \n",
    "&emsp;{%block content%}  \n",
    "&emsp;{%end block%}  \n",
    "- On the chosen url page the data within:  \n",
    "&emsp;{%block content%}  \n",
    "&emsp;{%end block%}  \n",
    "   Will be rendered, along with the contents of layout.html  \n",
    "\n",
    "\n",
    "- Visible part of the webpage goes within __< body >  < /body >__\n",
    "- Links, such as links to javascripts files, go within __< head >  < /head >__"
   ]
  },
  {
   "cell_type": "markdown",
   "metadata": {},
   "source": [
    "# CSS styling   \n",
    "- __< link rel=\"stylesheet\" href=\"{{url_for('static',filename='css/main.css')}}\" >__\n",
    "\n",
    "\n",
    "- 'rel' declares the type of file that is being linked\n",
    "    - The .css file must be located within a folder called \"static\", which is located in the same location as the python file running the webserver\n",
    "- The folder \"static\" can have another folder such as css to house the .css file\n",
    "    - The location can be specified in the 'link' tag by defining it's file-location using the argument 'filename'"
   ]
  },
  {
   "cell_type": "markdown",
   "metadata": {},
   "source": [
    "# Create python virtual environment  \n",
    "- Ensure that vitualenv is installed: pip install virtualenv\n",
    "- The virtual environment should be created at the same folder level as the application\n",
    "- Create the virtual environment: __python -m venv xlanuch__\n",
    "- To activate the virtual environment naviagte to the 'Scripts' folder of virtual environment and then run: activate (E.g *xlaunch/Scripts/activate*)\n",
    "- Install the necessary packages for the application\n",
    "    - Flask: __pip install flask__"
   ]
  },
  {
   "cell_type": "markdown",
   "metadata": {},
   "source": [
    "# Deploy the website onto a live server \n",
    "1. Create an account on www.heroku.com if you don't have one already.\n",
    "2. Download and install Heroku Toolbelt from www.toolbelt.heroku.com/\n",
    "3. Install gunicorn with \"pip install gunicorn\". Make sure you're using pip from your virtual environment if you have one.\n",
    "4. Create a requirement.txt file in the main app directory where the main Python app file is located. You can create that file by running \"pip freeze > requirements.txt\" in the command line. Make sure you're using pip from your virtual environment if you have one. The requirement.txt file should now contain a list of Python packages.\n",
    "5. Create a file named \"Procfile\" in the main app directory. The file should not contain any extension. Then type in this line inside: \"web: gunicorn script1:app\" where \"script1\" should be replaced with the name of your Python script and \"app\" with the name of the variable holding your Flask app.\n",
    "6. Create a runtime.txt file in the main app directory and type \"python-3.5.1\" inside.\n",
    "If you're using Python 2, you may want to type in \"python-2.7.11\" instead.\n",
    "7. Open your computer terminal/command line to point to the directory where the Python file containing your app code is located.\n",
    "8. Using the terminal, log in to Heroku with \"heroku login\"\n",
    "9. Enter your Heroku email address\n",
    "10. Enter your Heroku password\n",
    "11. Create a new Heroku app with \"heroku create myawesomeappname\"\n",
    "17. Initialize a local git repository with \"git init\"\n",
    "18. Add your local application files to git with \"git add .\"\n",
    "19. Tell git your email address with \"git config --global user.email \"myemail@hotmail.com\"\". Make sure the email address is inside quotes here. \n",
    "20. Tell git your username (just pick whatever username) with \"config --global user.name \"whateverusername\"\". The username should be in quotes.\n",
    "21. Commit the changes with \"git commit -m \"first commit\"\". Make sure \"first commit\" is inside quotes.\n",
    "22. Before pushing the changes to Heroku, tell heroku the name of the app you want to use with heroku \"git:remote --app myawesomeappname\"\n",
    "23. Push the changes to Heroku with \"git push heroku master\"\n",
    "26. That should do it. Go ahead and open your app with \"heroku open\"."
   ]
  },
  {
   "cell_type": "code",
   "execution_count": null,
   "metadata": {},
   "outputs": [],
   "source": []
  }
 ],
 "metadata": {
  "kernelspec": {
   "display_name": "Python 3",
   "language": "python",
   "name": "python3"
  },
  "language_info": {
   "codemirror_mode": {
    "name": "ipython",
    "version": 3
   },
   "file_extension": ".py",
   "mimetype": "text/x-python",
   "name": "python",
   "nbconvert_exporter": "python",
   "pygments_lexer": "ipython3",
   "version": "3.7.4"
  }
 },
 "nbformat": 4,
 "nbformat_minor": 2
}
