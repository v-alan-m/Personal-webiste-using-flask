{
 "cells": [
  {
   "cell_type": "markdown",
   "metadata": {},
   "source": [
    "# Create a file to create and run the flask webserver\n",
    "- personal_flask_website.py"
   ]
  },
  {
   "cell_type": "markdown",
   "metadata": {},
   "source": [
    "# HTML template  \n",
    "- Create a folder called \"templates\"  \n",
    "    - Create a .html file with it  \n",
    "        - home.html\n",
    "        - about.html"
   ]
  },
  {
   "cell_type": "markdown",
   "metadata": {},
   "source": [
    "# Navigation memu\n",
    "- Provides to a global view of a selected range of webpages \n",
    "    - layout.html  \n",
    "- The flask python file navigates to the chosen url page  \n",
    "- The URL page extends to the layout.html page  \n",
    "- The layout page has an element which contains:  \n",
    "&emsp;{%block content%}  \n",
    "&emsp;{%end block%}  \n",
    "- On the chosen url page the data within:  \n",
    "&emsp;{%block content%}  \n",
    "&emsp;{%end block%}  \n",
    "   Will be rendered, along with the contents of layout.html  \n",
    "\n",
    "\n",
    "- Visible part of the webpage goes within __< body >  < /body >__\n",
    "- Links, such as links to javascripts files, go within __< head >  < /head >__"
   ]
  },
  {
   "cell_type": "markdown",
   "metadata": {},
   "source": [
    "# CSS styling   \n",
    "- __< link rel=\"stylesheet\" href=\"{{url_for('static',filename='css/main.css')}}\" >__\n",
    "\n",
    "\n",
    "- 'rel' declares the type of file that is being linked\n",
    "    - The .css file must be located within a folder called \"static\", which is located in the same location as the python file running the webserver\n",
    "- The folder \"static\" can have another folder such as css to house the .css file\n",
    "    - The location can be specified in the 'link' tag by defining it's file-location using the argument 'filename'"
   ]
  },
  {
   "cell_type": "markdown",
   "metadata": {},
   "source": [
    "# Create python virtual environment  \n",
    "- Ensure that vitualenv is installed: pip install virtualenv\n",
    "- The virtual environment should be created at the same folder level as the application"
   ]
  },
  {
   "cell_type": "markdown",
   "metadata": {},
   "source": [
    "# Deploy the website onto a live server \n",
    "- "
   ]
  },
  {
   "cell_type": "markdown",
   "metadata": {},
   "source": [
    "# Maintaining a live server  \n",
    "- "
   ]
  },
  {
   "cell_type": "markdown",
   "metadata": {},
   "source": [
    "# Troubleshooting\n",
    "- "
   ]
  },
  {
   "cell_type": "code",
   "execution_count": null,
   "metadata": {},
   "outputs": [],
   "source": []
  }
 ],
 "metadata": {
  "kernelspec": {
   "display_name": "Python 3",
   "language": "python",
   "name": "python3"
  },
  "language_info": {
   "codemirror_mode": {
    "name": "ipython",
    "version": 3
   },
   "file_extension": ".py",
   "mimetype": "text/x-python",
   "name": "python",
   "nbconvert_exporter": "python",
   "pygments_lexer": "ipython3",
   "version": "3.7.4"
  }
 },
 "nbformat": 4,
 "nbformat_minor": 2
}
